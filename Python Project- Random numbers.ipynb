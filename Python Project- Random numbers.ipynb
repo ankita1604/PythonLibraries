{
 "cells": [
  {
   "cell_type": "markdown",
   "metadata": {},
   "source": [
    "# DICE SIMULATOR GAME"
   ]
  },
  {
   "cell_type": "code",
   "execution_count": 1,
   "metadata": {},
   "outputs": [],
   "source": [
    "import random"
   ]
  },
  {
   "cell_type": "code",
   "execution_count": 2,
   "metadata": {},
   "outputs": [
    {
     "name": "stdout",
     "output_type": "stream",
     "text": [
      "1. Roll the dice    2. Exit\n",
      "what you want to do\n",
      "1\n",
      "6\n",
      "1. Roll the dice    2. Exit\n",
      "what you want to do\n",
      "1\n",
      "1\n",
      "1. Roll the dice    2. Exit\n",
      "what you want to do\n",
      "1\n",
      "3\n",
      "1. Roll the dice    2. Exit\n",
      "what you want to do\n",
      "2\n"
     ]
    }
   ],
   "source": [
    "while True:\n",
    "    print('''1. Roll the dice    2. Exit''')\n",
    "    user= int(input(\"what you want to do\\n\"))\n",
    "    if user==1:\n",
    "        number = random.randint(1,6)\n",
    "        print(number)\n",
    "    else:\n",
    "        break"
   ]
  },
  {
   "cell_type": "markdown",
   "metadata": {},
   "source": [
    "# Random Password Generator"
   ]
  },
  {
   "cell_type": "code",
   "execution_count": 5,
   "metadata": {},
   "outputs": [
    {
     "name": "stdout",
     "output_type": "stream",
     "text": [
      "ALLOWED SYMBOLS- small letters, capital letters, numbers 0-9, special charcter(!,@,_)\n",
      "Enter the length of the password9\n",
      "74DrkIx6c\n"
     ]
    }
   ],
   "source": [
    "import random\n",
    "print(\"ALLOWED SYMBOLS- small letters, capital letters, numbers 0-9, special charcter(!,@,_)\")\n",
    "passlen = int(input(\"Enter the length of the password\"))\n",
    "s= \"abcdefghijklmnopqrstuvwxyzABCDEFGHIJKLMNOPQSRTUVWXYZ1234567890!@_\"\n",
    "p = \"\".join(random.sample(s,passlen))\n",
    "print(p)\n"
   ]
  },
  {
   "cell_type": "code",
   "execution_count": 15,
   "metadata": {},
   "outputs": [],
   "source": [
    "import turtle\n",
    "a=0\n",
    "b=0\n",
    "turtle.bgcolor(\"black\")\n",
    "turtle.speed(0)\n",
    "turtle.pencolor(\"green\")\n",
    "turtle.penup()\n",
    "turtle.goto(0,200)\n",
    "turtle.pendown()\n",
    "\n",
    "while True:\n",
    "    turtle.forward(a)\n",
    "    turtle.right(b)\n",
    "    a+=3\n",
    "    b+=1\n",
    "    if b==201:\n",
    "        break\n",
    "turtle.done()"
   ]
  },
  {
   "cell_type": "code",
   "execution_count": null,
   "metadata": {},
   "outputs": [],
   "source": []
  },
  {
   "cell_type": "code",
   "execution_count": null,
   "metadata": {},
   "outputs": [],
   "source": []
  }
 ],
 "metadata": {
  "kernelspec": {
   "display_name": "Python 3",
   "language": "python",
   "name": "python3"
  },
  "language_info": {
   "codemirror_mode": {
    "name": "ipython",
    "version": 3
   },
   "file_extension": ".py",
   "mimetype": "text/x-python",
   "name": "python",
   "nbconvert_exporter": "python",
   "pygments_lexer": "ipython3",
   "version": "3.8.5"
  }
 },
 "nbformat": 4,
 "nbformat_minor": 4
}
