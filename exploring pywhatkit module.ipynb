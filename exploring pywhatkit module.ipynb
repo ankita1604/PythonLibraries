{
 "cells": [
  {
   "cell_type": "code",
   "execution_count": 1,
   "metadata": {},
   "outputs": [],
   "source": [
    "import pywhatkit as kit"
   ]
  },
  {
   "cell_type": "markdown",
   "metadata": {},
   "source": [
    "kit.sendwhatmsg()\n",
    "This function can be used to send WhatsApp message at certain time"
   ]
  },
  {
   "cell_type": "code",
   "execution_count": null,
   "metadata": {},
   "outputs": [
    {
     "name": "stdout",
     "output_type": "stream",
     "text": [
      "In 43239 seconds web.whatsapp.com will open and after 20 seconds message will be delivered\n"
     ]
    }
   ],
   "source": [
    "kit.sendwhatmsg(f\"+91{9950111794}\",\"message sent by python, Hi!\",1,1)"
   ]
  },
  {
   "cell_type": "raw",
   "metadata": {},
   "source": [
    "phone_num (required) - Phone number of target with country code\n",
    "message (required) - Message that you want to sendwhatmsg\n",
    "time_hour (required) - Hours at which you want to send message in 24 hour format\n",
    "time_min (required) - Minutes at which you want to send message\n",
    "wait_time (optional, val=20) - Seconds after which the message will be sent after opening the web\n",
    "print_waitTime (optional, val=True) - Will print the remaining time if set to true"
   ]
  },
  {
   "cell_type": "markdown",
   "metadata": {},
   "source": [
    "kit.playonyt()\n",
    "This function can be used to search and play a particular video on YouTube by using just the keyword, like \"Shape of You song\""
   ]
  },
  {
   "cell_type": "code",
   "execution_count": null,
   "metadata": {},
   "outputs": [],
   "source": [
    "kit.playonyt(\"Ed Sheeran - Shape of You (Official Music Video)\") #bug, might not work on few devices"
   ]
  },
  {
   "cell_type": "code",
   "execution_count": null,
   "metadata": {},
   "outputs": [],
   "source": [
    "kit.search(\"Python\")"
   ]
  },
  {
   "cell_type": "code",
   "execution_count": null,
   "metadata": {},
   "outputs": [],
   "source": [
    "kit.info(\"wikipedia\")"
   ]
  },
  {
   "cell_type": "code",
   "execution_count": null,
   "metadata": {},
   "outputs": [],
   "source": []
  }
 ],
 "metadata": {
  "kernelspec": {
   "display_name": "Python 3",
   "language": "python",
   "name": "python3"
  },
  "language_info": {
   "codemirror_mode": {
    "name": "ipython",
    "version": 3
   },
   "file_extension": ".py",
   "mimetype": "text/x-python",
   "name": "python",
   "nbconvert_exporter": "python",
   "pygments_lexer": "ipython3",
   "version": "3.8.5"
  }
 },
 "nbformat": 4,
 "nbformat_minor": 4
}
